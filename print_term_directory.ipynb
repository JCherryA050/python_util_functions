{
 "metadata": {
  "language_info": {
   "codemirror_mode": {
    "name": "ipython",
    "version": 3
   },
   "file_extension": ".py",
   "mimetype": "text/x-python",
   "name": "python",
   "nbconvert_exporter": "python",
   "pygments_lexer": "ipython3",
   "version": "3.8.5"
  },
  "orig_nbformat": 2,
  "kernelspec": {
   "name": "python385jvsc74a57bd047f28562226f6f52416099fe68bfccf41aa0de90dda40b57fa288bef16bfb653",
   "display_name": "Python 3.8.5 64-bit ('learn-env': conda)"
  }
 },
 "nbformat": 4,
 "nbformat_minor": 2,
 "cells": [
  {
   "cell_type": "code",
   "execution_count": 3,
   "metadata": {},
   "outputs": [],
   "source": [
    "def print_term_directory(file = None,term = None):\n",
    "    path = []\n",
    "    if type(file) == dict and (term in file.keys() or term in file.values()):\n",
    "        [path.append(k) for k,v in file.items() if (k == term or v == term)]\n",
    "    else:\n",
    "        for k,v in file.items():\n",
    "            if type(v) == dict and term in v.keys():\n",
    "                path.append(k)\n",
    "                [path.append(k2) for k2,v2 in v.items() if k2 == term]\n",
    "            elif type(v) == list:\n",
    "                index = 0\n",
    "                path.append(k)\n",
    "                for index in range(0,len(v)):\n",
    "                    if v[index] == term:\n",
    "                        path.append(index)\n",
    "                        path.append(v[index])\n",
    "    return path"
   ]
  },
  {
   "cell_type": "code",
   "execution_count": 4,
   "metadata": {},
   "outputs": [
    {
     "output_type": "execute_result",
     "data": {
      "text/plain": [
       "list"
      ]
     },
     "metadata": {},
     "execution_count": 4
    }
   ],
   "source": [
    "file = {'item1': 1 ,'item2': ['a','b','c','d'],'item3': 3,'item4': 4,'item5': 5,'item6': 6,'item7': 7}\n",
    "file\n",
    "type(file['item2'])"
   ]
  },
  {
   "cell_type": "code",
   "execution_count": 5,
   "metadata": {},
   "outputs": [
    {
     "output_type": "execute_result",
     "data": {
      "text/plain": [
       "['item2', 0, 'a']"
      ]
     },
     "metadata": {},
     "execution_count": 5
    }
   ],
   "source": [
    "print_term_directory(file,'a')"
   ]
  },
  {
   "cell_type": "code",
   "execution_count": 6,
   "metadata": {},
   "outputs": [
    {
     "output_type": "execute_result",
     "data": {
      "text/plain": [
       "['item2', 1, 'b']"
      ]
     },
     "metadata": {},
     "execution_count": 6
    }
   ],
   "source": [
    "print_term_directory(file,'b')"
   ]
  },
  {
   "cell_type": "code",
   "execution_count": 7,
   "metadata": {},
   "outputs": [
    {
     "output_type": "execute_result",
     "data": {
      "text/plain": [
       "['item4']"
      ]
     },
     "metadata": {},
     "execution_count": 7
    }
   ],
   "source": [
    "print_term_directory(file,4)"
   ]
  },
  {
   "cell_type": "code",
   "execution_count": null,
   "metadata": {},
   "outputs": [],
   "source": []
  }
 ]
}